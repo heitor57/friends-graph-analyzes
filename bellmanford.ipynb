{
 "cells": [
  {
   "cell_type": "code",
   "execution_count": 1,
   "metadata": {},
   "outputs": [
    {
     "data": {
      "text/plain": [
       "array([[ 0., -1.,  4., inf, inf],\n",
       "       [inf,  0.,  3.,  2.,  2.],\n",
       "       [inf, inf,  0., inf, inf],\n",
       "       [inf,  1.,  5.,  0., inf],\n",
       "       [inf, inf, inf, -3.,  0.]])"
      ]
     },
     "execution_count": 1,
     "metadata": {},
     "output_type": "execute_result"
    }
   ],
   "source": [
    "import numpy as np\n",
    "from numpy import inf\n",
    "G = np.array([[0,0, 2],[1,0,3],[3,5,0]])\n",
    "G = np.array([\n",
    "    [0,-1,4,inf,inf],\n",
    "    [inf,0,3,2,2],\n",
    "    [inf,inf,0,inf,inf],\n",
    "    [inf,1,5,0,inf],\n",
    "    [inf,inf,inf,-3,0],\n",
    "             ]\n",
    "              )\n",
    "G\n",
    "s=0#start node\n",
    "G"
   ]
  },
  {
   "cell_type": "code",
   "execution_count": 2,
   "metadata": {},
   "outputs": [],
   "source": [
    "\n",
    "def initialize_single_source(G,s):\n",
    "    d = [ np.inf for i in range(G.shape[0])]\n",
    "    p = [ None for i in range(G.shape[0])]\n",
    "    d[s]=0\n",
    "    return d,p\n",
    "\n",
    "def relax(u,v,w):\n",
    "    if d[v] > d[u]+w:\n",
    "        d[v]= d[u]+w\n",
    "        p[v]=u\n",
    "def bellman_ford(G,s):\n",
    "    E=np.transpose(G.nonzero())# edges\n",
    "    for i in range(G.shape[0]-1):\n",
    "        for e in E:\n",
    "            w=G[tuple(e)]\n",
    "            relax(e[0],e[1],w)\n",
    "    for e in E:\n",
    "        w=G[tuple(e)]\n",
    "        u=e[0]\n",
    "        v=e[1]\n",
    "        if d[v]>d[u]+w:\n",
    "            return False\n",
    "    return True"
   ]
  },
  {
   "cell_type": "code",
   "execution_count": 3,
   "metadata": {},
   "outputs": [
    {
     "data": {
      "text/plain": [
       "(True, [0, -1.0, 2.0, -2.0, 1.0], [None, 0, 1, 4, 1])"
      ]
     },
     "execution_count": 3,
     "metadata": {},
     "output_type": "execute_result"
    }
   ],
   "source": [
    "d,p=initialize_single_source(G,s)# distances and parents\n",
    "bellman_ford(G,s),d,p"
   ]
  }
 ],
 "metadata": {
  "kernelspec": {
   "display_name": "Python 3",
   "language": "python",
   "name": "python3"
  },
  "language_info": {
   "codemirror_mode": {
    "name": "ipython",
    "version": 3
   },
   "file_extension": ".py",
   "mimetype": "text/x-python",
   "name": "python",
   "nbconvert_exporter": "python",
   "pygments_lexer": "ipython3",
   "version": "3.7.4"
  }
 },
 "nbformat": 4,
 "nbformat_minor": 2
}
