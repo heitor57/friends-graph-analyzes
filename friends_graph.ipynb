{
 "cells": [
  {
   "cell_type": "code",
   "execution_count": 1,
   "metadata": {},
   "outputs": [],
   "source": [
    "import pandas as pd\n",
    "import networkx as nx\n",
    "import json\n",
    "import numpy as np\n",
    "import scipy\n",
    "from scipy import sparse"
   ]
  },
  {
   "cell_type": "code",
   "execution_count": 2,
   "metadata": {},
   "outputs": [],
   "source": [
    "fuser=open(\"/home/heitor/recsys/data/user.json\")\n",
    "users_id=set()\n",
    "for i, line in enumerate(fuser):  \n",
    "    # json to dict\n",
    "    obj_json = json.loads(line)\n",
    "    # add to the data collection\n",
    "    user_id=obj_json['user_id']\n",
    "    users_id.add(user_id)"
   ]
  },
  {
   "cell_type": "code",
   "execution_count": 3,
   "metadata": {},
   "outputs": [],
   "source": [
    "d_id_to_int = dict()"
   ]
  },
  {
   "cell_type": "code",
   "execution_count": 4,
   "metadata": {},
   "outputs": [],
   "source": [
    "users_id=list(users_id)\n",
    "for i in range(len(users_id)):\n",
    "    d_id_to_int[users_id[i]]=i"
   ]
  },
  {
   "cell_type": "code",
   "execution_count": 29,
   "metadata": {},
   "outputs": [],
   "source": [
    "users_id=None"
   ]
  },
  {
   "cell_type": "code",
   "execution_count": 28,
   "metadata": {},
   "outputs": [
    {
     "data": {
      "text/plain": [
       "<1637138x1637138 sparse matrix of type '<class 'numpy.bool_'>'\n",
       "\twith 0 stored elements in LInked List format>"
      ]
     },
     "execution_count": 28,
     "metadata": {},
     "output_type": "execute_result"
    }
   ],
   "source": [
    "G=sparse.lil_matrix((len(users_id), len(users_id)),dtype=bool)\n",
    "G"
   ]
  },
  {
   "cell_type": "code",
   "execution_count": 30,
   "metadata": {},
   "outputs": [],
   "source": [
    "\n",
    "fuser=open(\"/home/heitor/recsys/data/user.json\")\n",
    "friend_graph = nx.Graph()\n",
    "\n",
    "\n",
    "for i, line in enumerate(fuser):  \n",
    "    # json to dict\n",
    "    obj_json = json.loads(line)\n",
    "    # add to the data collection\n",
    "    user_id=obj_json['user_id']\n",
    "    friends=obj_json['friends'].split(', ')\n",
    "\n",
    "    for friend in friends:\n",
    "        try:\n",
    "            G[d_id_to_int[user_id],d_id_to_int[friend]]=True\n",
    "        except:\n",
    "            pass\n"
   ]
  },
  {
   "cell_type": "code",
   "execution_count": 50,
   "metadata": {},
   "outputs": [
    {
     "data": {
      "text/plain": [
       "<1637138x1637138 sparse matrix of type '<class 'numpy.bool_'>'\n",
       "\twith 14784576 stored elements in LInked List format>"
      ]
     },
     "execution_count": 50,
     "metadata": {},
     "output_type": "execute_result"
    }
   ],
   "source": [
    "G"
   ]
  }
 ],
 "metadata": {
  "kernelspec": {
   "display_name": "Python 3",
   "language": "python",
   "name": "python3"
  },
  "language_info": {
   "codemirror_mode": {
    "name": "ipython",
    "version": 3
   },
   "file_extension": ".py",
   "mimetype": "text/x-python",
   "name": "python",
   "nbconvert_exporter": "python",
   "pygments_lexer": "ipython3",
   "version": "3.7.4"
  }
 },
 "nbformat": 4,
 "nbformat_minor": 2
}
